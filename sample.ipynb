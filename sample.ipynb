{
 "cells": [
  {
   "cell_type": "markdown",
   "id": "ab768f94-121a-4e9e-92ef-18b1666e6c53",
   "metadata": {},
   "source": [
    "## Welcome to Notebook Demo"
   ]
  },
  {
   "cell_type": "code",
   "execution_count": null,
   "id": "e07751bf-abd7-491e-9d77-bc274192cff6",
   "metadata": {},
   "outputs": [],
   "source": []
  }
 ],
 "metadata": {
  "kernelspec": {
   "display_name": "Python [conda env:base] *",
   "language": "python",
   "name": "conda-base-py"
  },
  "language_info": {
   "codemirror_mode": {
    "name": "ipython",
    "version": 3
   },
   "file_extension": ".py",
   "mimetype": "text/x-python",
   "name": "python",
   "nbconvert_exporter": "python",
   "pygments_lexer": "ipython3",
   "version": "3.12.7"
  }
 },
 "nbformat": 4,
 "nbformat_minor": 5
}
